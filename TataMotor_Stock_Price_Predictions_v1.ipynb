{
 "cells": [
  {
   "cell_type": "code",
   "execution_count": 2,
   "metadata": {},
   "outputs": [],
   "source": [
    "# Libraries\n",
    "import numpy as np\n",
    "import pandas as pd\n",
    "import matplotlib.pyplot as plt\n",
    "from sklearn.preprocessing import MinMaxScaler\n",
    "import tensorflow as tf\n",
    "from tensorflow.keras.models import Sequential\n",
    "from tensorflow.keras.layers import Dense, LSTM, Dropout\n",
    "from sklearn.metrics import mean_squared_error\n",
    "from sklearn.model_selection import TimeSeriesSplit\n",
    "from keras. utils.vis_utils import plot_model\n",
    "from keras.callbacks import EarlyStopping,ModelCheckpoint\n",
    "from keras.optimizers import Adam \n",
    "\n",
    "\n"
   ]
  },
  {
   "cell_type": "code",
   "execution_count": 3,
   "metadata": {},
   "outputs": [
    {
     "data": {
      "text/plain": [
       "[PhysicalDevice(name='/physical_device:GPU:0', device_type='GPU')]"
      ]
     },
     "execution_count": 3,
     "metadata": {},
     "output_type": "execute_result"
    }
   ],
   "source": [
    "tf.config.list_physical_devices('GPU')"
   ]
  },
  {
   "cell_type": "code",
   "execution_count": 7,
   "metadata": {},
   "outputs": [
    {
     "data": {
      "text/html": [
       "<div>\n",
       "<style scoped>\n",
       "    .dataframe tbody tr th:only-of-type {\n",
       "        vertical-align: middle;\n",
       "    }\n",
       "\n",
       "    .dataframe tbody tr th {\n",
       "        vertical-align: top;\n",
       "    }\n",
       "\n",
       "    .dataframe thead th {\n",
       "        text-align: right;\n",
       "    }\n",
       "</style>\n",
       "<table border=\"1\" class=\"dataframe\">\n",
       "  <thead>\n",
       "    <tr style=\"text-align: right;\">\n",
       "      <th></th>\n",
       "      <th>Date</th>\n",
       "      <th>Open</th>\n",
       "      <th>High</th>\n",
       "      <th>Low</th>\n",
       "      <th>Close</th>\n",
       "      <th>Adj Close</th>\n",
       "      <th>Volume</th>\n",
       "    </tr>\n",
       "  </thead>\n",
       "  <tbody>\n",
       "    <tr>\n",
       "      <th>0</th>\n",
       "      <td>1991-01-02</td>\n",
       "      <td>20.959597</td>\n",
       "      <td>21.857864</td>\n",
       "      <td>20.959597</td>\n",
       "      <td>21.857864</td>\n",
       "      <td>15.690223</td>\n",
       "      <td>0.0</td>\n",
       "    </tr>\n",
       "    <tr>\n",
       "      <th>1</th>\n",
       "      <td>1991-01-03</td>\n",
       "      <td>20.959597</td>\n",
       "      <td>21.857864</td>\n",
       "      <td>20.959597</td>\n",
       "      <td>21.857864</td>\n",
       "      <td>15.690223</td>\n",
       "      <td>0.0</td>\n",
       "    </tr>\n",
       "    <tr>\n",
       "      <th>2</th>\n",
       "      <td>1991-01-04</td>\n",
       "      <td>21.857864</td>\n",
       "      <td>21.857864</td>\n",
       "      <td>21.857864</td>\n",
       "      <td>21.857864</td>\n",
       "      <td>15.690223</td>\n",
       "      <td>0.0</td>\n",
       "    </tr>\n",
       "    <tr>\n",
       "      <th>3</th>\n",
       "      <td>1991-01-07</td>\n",
       "      <td>20.360750</td>\n",
       "      <td>21.259020</td>\n",
       "      <td>20.061329</td>\n",
       "      <td>21.109308</td>\n",
       "      <td>15.152885</td>\n",
       "      <td>0.0</td>\n",
       "    </tr>\n",
       "    <tr>\n",
       "      <th>4</th>\n",
       "      <td>1991-01-08</td>\n",
       "      <td>21.109308</td>\n",
       "      <td>21.109308</td>\n",
       "      <td>21.109308</td>\n",
       "      <td>21.109308</td>\n",
       "      <td>15.152885</td>\n",
       "      <td>0.0</td>\n",
       "    </tr>\n",
       "  </tbody>\n",
       "</table>\n",
       "</div>"
      ],
      "text/plain": [
       "         Date       Open       High        Low      Close  Adj Close  Volume\n",
       "0  1991-01-02  20.959597  21.857864  20.959597  21.857864  15.690223     0.0\n",
       "1  1991-01-03  20.959597  21.857864  20.959597  21.857864  15.690223     0.0\n",
       "2  1991-01-04  21.857864  21.857864  21.857864  21.857864  15.690223     0.0\n",
       "3  1991-01-07  20.360750  21.259020  20.061329  21.109308  15.152885     0.0\n",
       "4  1991-01-08  21.109308  21.109308  21.109308  21.109308  15.152885     0.0"
      ]
     },
     "execution_count": 7,
     "metadata": {},
     "output_type": "execute_result"
    }
   ],
   "source": [
    "df = pd.read_csv('DataSets/TATAMOTORS_02_JUN_1991_14_JUN_2024.csv')\n",
    "df.head()"
   ]
  },
  {
   "cell_type": "code",
   "execution_count": 8,
   "metadata": {},
   "outputs": [
    {
     "data": {
      "text/html": [
       "<div>\n",
       "<style scoped>\n",
       "    .dataframe tbody tr th:only-of-type {\n",
       "        vertical-align: middle;\n",
       "    }\n",
       "\n",
       "    .dataframe tbody tr th {\n",
       "        vertical-align: top;\n",
       "    }\n",
       "\n",
       "    .dataframe thead th {\n",
       "        text-align: right;\n",
       "    }\n",
       "</style>\n",
       "<table border=\"1\" class=\"dataframe\">\n",
       "  <thead>\n",
       "    <tr style=\"text-align: right;\">\n",
       "      <th></th>\n",
       "      <th>Date</th>\n",
       "      <th>Open</th>\n",
       "      <th>High</th>\n",
       "      <th>Low</th>\n",
       "      <th>Close</th>\n",
       "      <th>Adj Close</th>\n",
       "      <th>Volume</th>\n",
       "    </tr>\n",
       "  </thead>\n",
       "  <tbody>\n",
       "    <tr>\n",
       "      <th>8454</th>\n",
       "      <td>2024-06-10</td>\n",
       "      <td>977.000000</td>\n",
       "      <td>984.900024</td>\n",
       "      <td>969.099976</td>\n",
       "      <td>975.150024</td>\n",
       "      <td>972.150024</td>\n",
       "      <td>9258931.0</td>\n",
       "    </tr>\n",
       "    <tr>\n",
       "      <th>8455</th>\n",
       "      <td>2024-06-11</td>\n",
       "      <td>973.799988</td>\n",
       "      <td>992.549988</td>\n",
       "      <td>966.650024</td>\n",
       "      <td>987.099976</td>\n",
       "      <td>987.099976</td>\n",
       "      <td>14828702.0</td>\n",
       "    </tr>\n",
       "    <tr>\n",
       "      <th>8456</th>\n",
       "      <td>2024-06-12</td>\n",
       "      <td>994.500000</td>\n",
       "      <td>1010.250000</td>\n",
       "      <td>987.000000</td>\n",
       "      <td>988.700012</td>\n",
       "      <td>988.700012</td>\n",
       "      <td>17527993.0</td>\n",
       "    </tr>\n",
       "    <tr>\n",
       "      <th>8457</th>\n",
       "      <td>2024-06-13</td>\n",
       "      <td>1002.000000</td>\n",
       "      <td>1002.000000</td>\n",
       "      <td>980.750000</td>\n",
       "      <td>985.849976</td>\n",
       "      <td>985.849976</td>\n",
       "      <td>12157226.0</td>\n",
       "    </tr>\n",
       "    <tr>\n",
       "      <th>8458</th>\n",
       "      <td>2024-06-14</td>\n",
       "      <td>990.000000</td>\n",
       "      <td>997.250000</td>\n",
       "      <td>981.400024</td>\n",
       "      <td>993.400024</td>\n",
       "      <td>993.400024</td>\n",
       "      <td>11591421.0</td>\n",
       "    </tr>\n",
       "  </tbody>\n",
       "</table>\n",
       "</div>"
      ],
      "text/plain": [
       "            Date         Open         High         Low       Close  \\\n",
       "8454  2024-06-10   977.000000   984.900024  969.099976  975.150024   \n",
       "8455  2024-06-11   973.799988   992.549988  966.650024  987.099976   \n",
       "8456  2024-06-12   994.500000  1010.250000  987.000000  988.700012   \n",
       "8457  2024-06-13  1002.000000  1002.000000  980.750000  985.849976   \n",
       "8458  2024-06-14   990.000000   997.250000  981.400024  993.400024   \n",
       "\n",
       "       Adj Close      Volume  \n",
       "8454  972.150024   9258931.0  \n",
       "8455  987.099976  14828702.0  \n",
       "8456  988.700012  17527993.0  \n",
       "8457  985.849976  12157226.0  \n",
       "8458  993.400024  11591421.0  "
      ]
     },
     "execution_count": 8,
     "metadata": {},
     "output_type": "execute_result"
    }
   ],
   "source": [
    "df.tail()"
   ]
  },
  {
   "cell_type": "code",
   "execution_count": 9,
   "metadata": {},
   "outputs": [],
   "source": [
    "df = df.dropna()\n",
    "df = df[df['Volume']!=0]"
   ]
  },
  {
   "cell_type": "code",
   "execution_count": 10,
   "metadata": {},
   "outputs": [
    {
     "name": "stdout",
     "output_type": "stream",
     "text": [
      "<class 'pandas.core.frame.DataFrame'>\n",
      "Index: 7138 entries, 1178 to 8458\n",
      "Data columns (total 7 columns):\n",
      " #   Column     Non-Null Count  Dtype  \n",
      "---  ------     --------------  -----  \n",
      " 0   Date       7138 non-null   object \n",
      " 1   Open       7138 non-null   float64\n",
      " 2   High       7138 non-null   float64\n",
      " 3   Low        7138 non-null   float64\n",
      " 4   Close      7138 non-null   float64\n",
      " 5   Adj Close  7138 non-null   float64\n",
      " 6   Volume     7138 non-null   float64\n",
      "dtypes: float64(6), object(1)\n",
      "memory usage: 446.1+ KB\n"
     ]
    }
   ],
   "source": [
    "df.info()"
   ]
  },
  {
   "cell_type": "code",
   "execution_count": 11,
   "metadata": {},
   "outputs": [
    {
     "data": {
      "text/html": [
       "<div>\n",
       "<style scoped>\n",
       "    .dataframe tbody tr th:only-of-type {\n",
       "        vertical-align: middle;\n",
       "    }\n",
       "\n",
       "    .dataframe tbody tr th {\n",
       "        vertical-align: top;\n",
       "    }\n",
       "\n",
       "    .dataframe thead th {\n",
       "        text-align: right;\n",
       "    }\n",
       "</style>\n",
       "<table border=\"1\" class=\"dataframe\">\n",
       "  <thead>\n",
       "    <tr style=\"text-align: right;\">\n",
       "      <th></th>\n",
       "      <th>Open</th>\n",
       "      <th>High</th>\n",
       "      <th>Low</th>\n",
       "      <th>Close</th>\n",
       "      <th>Adj Close</th>\n",
       "      <th>Volume</th>\n",
       "    </tr>\n",
       "  </thead>\n",
       "  <tbody>\n",
       "    <tr>\n",
       "      <th>count</th>\n",
       "      <td>7138.000000</td>\n",
       "      <td>7138.000000</td>\n",
       "      <td>7138.000000</td>\n",
       "      <td>7138.000000</td>\n",
       "      <td>7138.000000</td>\n",
       "      <td>7.138000e+03</td>\n",
       "    </tr>\n",
       "    <tr>\n",
       "      <th>mean</th>\n",
       "      <td>211.315819</td>\n",
       "      <td>214.385869</td>\n",
       "      <td>207.818125</td>\n",
       "      <td>210.980768</td>\n",
       "      <td>203.117295</td>\n",
       "      <td>1.519189e+07</td>\n",
       "    </tr>\n",
       "    <tr>\n",
       "      <th>std</th>\n",
       "      <td>189.868939</td>\n",
       "      <td>191.860736</td>\n",
       "      <td>187.401432</td>\n",
       "      <td>189.547886</td>\n",
       "      <td>192.250175</td>\n",
       "      <td>2.028181e+07</td>\n",
       "    </tr>\n",
       "    <tr>\n",
       "      <th>min</th>\n",
       "      <td>11.114574</td>\n",
       "      <td>11.631977</td>\n",
       "      <td>11.028340</td>\n",
       "      <td>11.267879</td>\n",
       "      <td>9.043228</td>\n",
       "      <td>2.896100e+04</td>\n",
       "    </tr>\n",
       "    <tr>\n",
       "      <th>25%</th>\n",
       "      <td>68.815349</td>\n",
       "      <td>70.043875</td>\n",
       "      <td>67.253084</td>\n",
       "      <td>68.680405</td>\n",
       "      <td>52.078042</td>\n",
       "      <td>5.393492e+06</td>\n",
       "    </tr>\n",
       "    <tr>\n",
       "      <th>50%</th>\n",
       "      <td>146.844513</td>\n",
       "      <td>149.603004</td>\n",
       "      <td>142.779175</td>\n",
       "      <td>146.544021</td>\n",
       "      <td>132.790619</td>\n",
       "      <td>9.377462e+06</td>\n",
       "    </tr>\n",
       "    <tr>\n",
       "      <th>75%</th>\n",
       "      <td>333.562500</td>\n",
       "      <td>337.819389</td>\n",
       "      <td>326.836205</td>\n",
       "      <td>333.070015</td>\n",
       "      <td>330.372642</td>\n",
       "      <td>1.674081e+07</td>\n",
       "    </tr>\n",
       "    <tr>\n",
       "      <th>max</th>\n",
       "      <td>1038.000000</td>\n",
       "      <td>1065.599976</td>\n",
       "      <td>1030.400024</td>\n",
       "      <td>1046.650024</td>\n",
       "      <td>1043.430054</td>\n",
       "      <td>3.905778e+08</td>\n",
       "    </tr>\n",
       "  </tbody>\n",
       "</table>\n",
       "</div>"
      ],
      "text/plain": [
       "              Open         High          Low        Close    Adj Close  \\\n",
       "count  7138.000000  7138.000000  7138.000000  7138.000000  7138.000000   \n",
       "mean    211.315819   214.385869   207.818125   210.980768   203.117295   \n",
       "std     189.868939   191.860736   187.401432   189.547886   192.250175   \n",
       "min      11.114574    11.631977    11.028340    11.267879     9.043228   \n",
       "25%      68.815349    70.043875    67.253084    68.680405    52.078042   \n",
       "50%     146.844513   149.603004   142.779175   146.544021   132.790619   \n",
       "75%     333.562500   337.819389   326.836205   333.070015   330.372642   \n",
       "max    1038.000000  1065.599976  1030.400024  1046.650024  1043.430054   \n",
       "\n",
       "             Volume  \n",
       "count  7.138000e+03  \n",
       "mean   1.519189e+07  \n",
       "std    2.028181e+07  \n",
       "min    2.896100e+04  \n",
       "25%    5.393492e+06  \n",
       "50%    9.377462e+06  \n",
       "75%    1.674081e+07  \n",
       "max    3.905778e+08  "
      ]
     },
     "execution_count": 11,
     "metadata": {},
     "output_type": "execute_result"
    }
   ],
   "source": [
    "\n",
    "df.describe()"
   ]
  },
  {
   "cell_type": "code",
   "execution_count": 12,
   "metadata": {},
   "outputs": [
    {
     "name": "stdout",
     "output_type": "stream",
     "text": [
      "Dataframe Shape:  (7138, 7)\n",
      "Null Value Present:  False\n"
     ]
    }
   ],
   "source": [
    "#Print the shape of Dataframe  and Check for Null Values\n",
    "print('Dataframe Shape: ', df. shape)\n",
    "print('Null Value Present: ', df.isnull().values.any())"
   ]
  },
  {
   "cell_type": "code",
   "execution_count": 13,
   "metadata": {},
   "outputs": [
    {
     "data": {
      "text/plain": [
       "<Axes: >"
      ]
     },
     "execution_count": 13,
     "metadata": {},
     "output_type": "execute_result"
    },
    {
     "data": {
      "image/png": "[encoded data removed]",
      "text/plain": [
       "<Figure size 640x480 with 1 Axes>"
      ]
     },
     "metadata": {},
     "output_type": "display_data"
    }
   ],
   "source": [
    "#Plot the Close Value\n",
    "df['Close'].plot()"
   ]
  },
  {
   "cell_type": "code",
   "execution_count": 14,
   "metadata": {},
   "outputs": [],
   "source": [
    "#Set Target Variable\n",
    "output_var = pd.DataFrame(df['Close'])\n",
    "\n",
    "#Selecting the Feature\n",
    "features = ['Open', 'Low', 'High', 'Volume']"
   ]
  },
  {
   "cell_type": "code",
   "execution_count": 15,
   "metadata": {},
   "outputs": [
    {
     "data": {
      "text/html": [
       "<div>\n",
       "<style scoped>\n",
       "    .dataframe tbody tr th:only-of-type {\n",
       "        vertical-align: middle;\n",
       "    }\n",
       "\n",
       "    .dataframe tbody tr th {\n",
       "        vertical-align: top;\n",
       "    }\n",
       "\n",
       "    .dataframe thead th {\n",
       "        text-align: right;\n",
       "    }\n",
       "</style>\n",
       "<table border=\"1\" class=\"dataframe\">\n",
       "  <thead>\n",
       "    <tr style=\"text-align: right;\">\n",
       "      <th></th>\n",
       "      <th>Open</th>\n",
       "      <th>Low</th>\n",
       "      <th>High</th>\n",
       "      <th>Volume</th>\n",
       "    </tr>\n",
       "  </thead>\n",
       "  <tbody>\n",
       "    <tr>\n",
       "      <th>1178</th>\n",
       "      <td>0.054491</td>\n",
       "      <td>0.054507</td>\n",
       "      <td>0.052827</td>\n",
       "      <td>0.000951</td>\n",
       "    </tr>\n",
       "    <tr>\n",
       "      <th>1180</th>\n",
       "      <td>0.054491</td>\n",
       "      <td>0.054977</td>\n",
       "      <td>0.053736</td>\n",
       "      <td>0.000506</td>\n",
       "    </tr>\n",
       "    <tr>\n",
       "      <th>1181</th>\n",
       "      <td>0.055657</td>\n",
       "      <td>0.055917</td>\n",
       "      <td>0.054418</td>\n",
       "      <td>0.000741</td>\n",
       "    </tr>\n",
       "    <tr>\n",
       "      <th>1182</th>\n",
       "      <td>0.056357</td>\n",
       "      <td>0.056622</td>\n",
       "      <td>0.056691</td>\n",
       "      <td>0.002931</td>\n",
       "    </tr>\n",
       "    <tr>\n",
       "      <th>1183</th>\n",
       "      <td>0.058457</td>\n",
       "      <td>0.057797</td>\n",
       "      <td>0.057145</td>\n",
       "      <td>0.001670</td>\n",
       "    </tr>\n",
       "  </tbody>\n",
       "</table>\n",
       "</div>"
      ],
      "text/plain": [
       "          Open       Low      High    Volume\n",
       "1178  0.054491  0.054507  0.052827  0.000951\n",
       "1180  0.054491  0.054977  0.053736  0.000506\n",
       "1181  0.055657  0.055917  0.054418  0.000741\n",
       "1182  0.056357  0.056622  0.056691  0.002931\n",
       "1183  0.058457  0.057797  0.057145  0.001670"
      ]
     },
     "execution_count": 15,
     "metadata": {},
     "output_type": "execute_result"
    }
   ],
   "source": [
    "#Scaling\n",
    "scaler = MinMaxScaler()\n",
    "feature_transform = scaler.fit_transform(df[features]) # Scalling \n",
    "feature_transform= pd.DataFrame(columns=features, data=feature_transform, index=df.index) # Convert to saprate Dataframe \n",
    "feature_transform.head()"
   ]
  },
  {
   "cell_type": "code",
   "execution_count": 12,
   "metadata": {},
   "outputs": [],
   "source": [
    "#Splitting to Training set and Test set\n",
    "\n",
    "timesplit=TimeSeriesSplit(n_splits=5,test_size=int(len(df)*0.2)) # number of split \n",
    "for train_index, test_index in timesplit.split(feature_transform):\n",
    "        X_train, X_test = feature_transform[:len(train_index)], feature_transform[len(train_index): (len(train_index)+len(test_index))]\n",
    "        y_train, y_test = output_var[:len(train_index)].values.ravel(), output_var[len(train_index): (len(train_index)+len(test_index))].values.ravel()"
   ]
  },
  {
   "cell_type": "code",
   "execution_count": 13,
   "metadata": {},
   "outputs": [
    {
     "name": "stdout",
     "output_type": "stream",
     "text": [
      "Traning shape: (5711, 4)\n",
      "Test shape: (1427, 4)\n",
      "Traning Data percentage: 80.0084057158868\n",
      "Test Data percentage: 19.991594284113198\n"
     ]
    }
   ],
   "source": [
    "# Printing the shape of Training and Test set \n",
    "print(\"Traning shape:\", X_train.shape)\n",
    "print(\"Test shape:\", X_test.shape)\n",
    "\n",
    "print(\"Traning Data percentage:\", (X_train.shape[0]/(X_train.shape[0]+X_test.shape[0]))*100)\n",
    "print(\"Test Data percentage:\", (X_test.shape[0]/(X_train.shape[0]+X_test.shape[0]))*100)\n"
   ]
  },
  {
   "cell_type": "code",
   "execution_count": 14,
   "metadata": {},
   "outputs": [
    {
     "name": "stdout",
     "output_type": "stream",
     "text": [
      "Traning shape: (5711, 1, 4)\n",
      "Test shape: (1427, 1, 4)\n"
     ]
    }
   ],
   "source": [
    "#Process the data for LSTM & reshape the data for LSTM to (batch_size, timesteps, input_dim) \n",
    "\n",
    "trainX =np.array(X_train)\n",
    "testX =np.array(X_test)\n",
    "X_train = trainX.reshape(X_train.shape[0], 1, X_train.shape[1])\n",
    "X_test = testX.reshape(X_test.shape[0], 1, X_test.shape[1])\n",
    "\n",
    "print(\"Traning shape:\", X_train.shape)\n",
    "print(\"Test shape:\", X_test.shape)"
   ]
  },
  {
   "cell_type": "code",
   "execution_count": 41,
   "metadata": {},
   "outputs": [
    {
     "name": "stdout",
     "output_type": "stream",
     "text": [
      "WARNING:tensorflow:Layer lstm_86 will not use cuDNN kernels since it doesn't meet the criteria. It will use a generic GPU kernel as fallback when running on GPU.\n"
     ]
    },
    {
     "name": "stdout",
     "output_type": "stream",
     "text": [
      "WARNING:tensorflow:Layer lstm_87 will not use cuDNN kernels since it doesn't meet the criteria. It will use a generic GPU kernel as fallback when running on GPU.\n",
      "WARNING:tensorflow:Layer lstm_88 will not use cuDNN kernels since it doesn't meet the criteria. It will use a generic GPU kernel as fallback when running on GPU.\n",
      "WARNING:tensorflow:Layer lstm_89 will not use cuDNN kernels since it doesn't meet the criteria. It will use a generic GPU kernel as fallback when running on GPU.\n",
      "Model: \"sequential_6\"\n",
      "_________________________________________________________________\n",
      " Layer (type)                Output Shape              Param #   \n",
      "=================================================================\n",
      " lstm_86 (LSTM)              (None, 1, 256)            267264    \n",
      "                                                                 \n",
      " dropout_42 (Dropout)        (None, 1, 256)            0         \n",
      "                                                                 \n",
      " lstm_87 (LSTM)              (None, 1, 128)            197120    \n",
      "                                                                 \n",
      " dropout_43 (Dropout)        (None, 1, 128)            0         \n",
      "                                                                 \n",
      " lstm_88 (LSTM)              (None, 1, 64)             49408     \n",
      "                                                                 \n",
      " dropout_44 (Dropout)        (None, 1, 64)             0         \n",
      "                                                                 \n",
      " lstm_89 (LSTM)              (None, 1, 16)             5184      \n",
      "                                                                 \n",
      " dropout_45 (Dropout)        (None, 1, 16)             0         \n",
      "                                                                 \n",
      " dense_6 (Dense)             (None, 1, 1)              17        \n",
      "                                                                 \n",
      "=================================================================\n",
      "Total params: 518,993\n",
      "Trainable params: 518,993\n",
      "Non-trainable params: 0\n",
      "_________________________________________________________________\n"
     ]
    }
   ],
   "source": [
    "\n",
    "from tensorflow.keras.regularizers import l2\n",
    "\n",
    "\n",
    "#Building the LSTM Model\n",
    "\n",
    "lstm = Sequential()\n",
    "lstm.add(LSTM(units=256, input_shape=(1, trainX.shape[1]), activation='relu', return_sequences=True, \n",
    "            kernel_regularizer=l2(0.001), \n",
    "            use_bias=True))\n",
    "\n",
    "lstm.add(Dropout(0.2))\n",
    "lstm.add(LSTM(units=128, activation='relu', return_sequences=True))\n",
    "lstm.add(Dropout(0.3))\n",
    "lstm.add(LSTM(units=64, activation='relu', return_sequences=True))\n",
    "lstm.add(Dropout(0.2))\n",
    "lstm.add(LSTM(units=16, activation='relu', return_sequences=True))\n",
    "lstm.add(Dropout(0.3))\n",
    "lstm.add(Dense(1))\n",
    "\n",
    "# optimizer = Adam(learning_rate=0.001) \n",
    "optimizer = 'adam'\n",
    "\n",
    "lstm.compile(loss='mean_squared_error', \n",
    "             optimizer= optimizer, #'adam',\n",
    "            )\n",
    "\n",
    "# plot_model(lstm, show_shapes=True, show_layer_names=True)\n",
    "\n",
    "lstm.summary()\n"
   ]
  },
  {
   "cell_type": "code",
   "execution_count": 42,
   "metadata": {},
   "outputs": [],
   "source": [
    "# Model Check Point & Early Stopping\n",
    "\n",
    "Model_checkpoint_path = \"TataMotors_Stock_Price_Prediction.hdf5\"\n",
    "\n",
    "callback = [EarlyStopping(monitor='val_loss', patience = 10, verbose=1),\n",
    "            ModelCheckpoint(Model_checkpoint_path, monitor='val_loss', verbose=1, save_best_only=True, mode='auto')]"
   ]
  },
  {
   "cell_type": "code",
   "execution_count": 43,
   "metadata": {},
   "outputs": [
    {
     "name": "stdout",
     "output_type": "stream",
     "text": [
      "Epoch 1/500\n",
      "45/45 [==============================] - ETA: 0s - loss: 52938.0508\n",
      "Epoch 1: val_loss improved from inf to 190122.35938, saving model to TataMotors_Stock_Price_Prediction.hdf5\n",
      "45/45 [==============================] - 9s 105ms/step - loss: 52938.0508 - val_loss: 190122.3594\n",
      "Epoch 2/500\n",
      "45/45 [==============================] - ETA: 0s - loss: 48018.3125\n",
      "Epoch 2: val_loss improved from 190122.35938 to 141279.23438, saving model to TataMotors_Stock_Price_Prediction.hdf5\n",
      "45/45 [==============================] - 2s 48ms/step - loss: 48018.3125 - val_loss: 141279.2344\n",
      "Epoch 3/500\n",
      "45/45 [==============================] - ETA: 0s - loss: 9632.7246\n",
      "Epoch 3: val_loss improved from 141279.23438 to 14135.11328, saving model to TataMotors_Stock_Price_Prediction.hdf5\n",
      "45/45 [==============================] - 2s 48ms/step - loss: 9632.7246 - val_loss: 14135.1133\n",
      "Epoch 4/500\n",
      "45/45 [==============================] - ETA: 0s - loss: 12894.5156\n",
      "Epoch 4: val_loss improved from 14135.11328 to 8150.27734, saving model to TataMotors_Stock_Price_Prediction.hdf5\n",
      "45/45 [==============================] - 2s 48ms/step - loss: 12894.5156 - val_loss: 8150.2773\n",
      "Epoch 5/500\n",
      "45/45 [==============================] - ETA: 0s - loss: 8169.0981\n",
      "Epoch 5: val_loss did not improve from 8150.27734\n",
      "45/45 [==============================] - 2s 49ms/step - loss: 8169.0981 - val_loss: 8251.9092\n",
      "Epoch 6/500\n",
      "45/45 [==============================] - ETA: 0s - loss: 5638.7876\n",
      "Epoch 6: val_loss improved from 8150.27734 to 7993.51318, saving model to TataMotors_Stock_Price_Prediction.hdf5\n",
      "45/45 [==============================] - 2s 48ms/step - loss: 5638.7876 - val_loss: 7993.5132\n",
      "Epoch 7/500\n",
      "45/45 [==============================] - ETA: 0s - loss: 4991.0308\n",
      "Epoch 7: val_loss improved from 7993.51318 to 7939.14600, saving model to TataMotors_Stock_Price_Prediction.hdf5\n",
      "45/45 [==============================] - 2s 47ms/step - loss: 4991.0308 - val_loss: 7939.1460\n",
      "Epoch 8/500\n",
      "45/45 [==============================] - ETA: 0s - loss: 4763.9028\n",
      "Epoch 8: val_loss did not improve from 7939.14600\n",
      "45/45 [==============================] - 2s 46ms/step - loss: 4763.9028 - val_loss: 7992.0869\n",
      "Epoch 9/500\n",
      "45/45 [==============================] - ETA: 0s - loss: 4572.1562\n",
      "Epoch 9: val_loss improved from 7939.14600 to 7930.39258, saving model to TataMotors_Stock_Price_Prediction.hdf5\n",
      "45/45 [==============================] - 2s 46ms/step - loss: 4572.1562 - val_loss: 7930.3926\n",
      "Epoch 10/500\n",
      "45/45 [==============================] - ETA: 0s - loss: 4374.0078\n",
      "Epoch 10: val_loss improved from 7930.39258 to 7827.87109, saving model to TataMotors_Stock_Price_Prediction.hdf5\n",
      "45/45 [==============================] - 2s 48ms/step - loss: 4374.0078 - val_loss: 7827.8711\n",
      "Epoch 11/500\n",
      "45/45 [==============================] - ETA: 0s - loss: 4194.4688\n",
      "Epoch 11: val_loss improved from 7827.87109 to 7706.92383, saving model to TataMotors_Stock_Price_Prediction.hdf5\n",
      "45/45 [==============================] - 2s 46ms/step - loss: 4194.4688 - val_loss: 7706.9238\n",
      "Epoch 12/500\n",
      "45/45 [==============================] - ETA: 0s - loss: 4043.8599\n",
      "Epoch 12: val_loss improved from 7706.92383 to 7686.56055, saving model to TataMotors_Stock_Price_Prediction.hdf5\n",
      "45/45 [==============================] - 2s 52ms/step - loss: 4043.8599 - val_loss: 7686.5605\n",
      "Epoch 13/500\n",
      "44/45 [============================>.] - ETA: 0s - loss: 3883.9119\n",
      "Epoch 13: val_loss improved from 7686.56055 to 7588.69043, saving model to TataMotors_Stock_Price_Prediction.hdf5\n",
      "45/45 [==============================] - 2s 47ms/step - loss: 3902.0813 - val_loss: 7588.6904\n",
      "Epoch 14/500\n",
      "45/45 [==============================] - ETA: 0s - loss: 3758.7812\n",
      "Epoch 14: val_loss improved from 7588.69043 to 7428.57471, saving model to TataMotors_Stock_Price_Prediction.hdf5\n",
      "45/45 [==============================] - 2s 47ms/step - loss: 3758.7812 - val_loss: 7428.5747\n",
      "Epoch 15/500\n",
      "45/45 [==============================] - ETA: 0s - loss: 3650.0459\n",
      "Epoch 15: val_loss improved from 7428.57471 to 7329.46826, saving model to TataMotors_Stock_Price_Prediction.hdf5\n",
      "45/45 [==============================] - 2s 46ms/step - loss: 3650.0459 - val_loss: 7329.4683\n",
      "Epoch 16/500\n",
      "44/45 [============================>.] - ETA: 0s - loss: 3540.5334\n",
      "Epoch 16: val_loss did not improve from 7329.46826\n",
      "45/45 [==============================] - 2s 48ms/step - loss: 3554.8328 - val_loss: 7428.0640\n",
      "Epoch 17/500\n",
      "45/45 [==============================] - ETA: 0s - loss: 3453.8621\n",
      "Epoch 17: val_loss improved from 7329.46826 to 7273.92480, saving model to TataMotors_Stock_Price_Prediction.hdf5\n",
      "45/45 [==============================] - 2s 47ms/step - loss: 3453.8621 - val_loss: 7273.9248\n",
      "Epoch 18/500\n",
      "45/45 [==============================] - ETA: 0s - loss: 3383.6140\n",
      "Epoch 18: val_loss did not improve from 7273.92480\n",
      "45/45 [==============================] - 2s 49ms/step - loss: 3383.6140 - val_loss: 7386.7983\n",
      "Epoch 19/500\n",
      "45/45 [==============================] - ETA: 0s - loss: 3285.4817\n",
      "Epoch 19: val_loss did not improve from 7273.92480\n",
      "45/45 [==============================] - 2s 46ms/step - loss: 3285.4817 - val_loss: 7371.7505\n",
      "Epoch 20/500\n",
      "45/45 [==============================] - ETA: 0s - loss: 3195.9590\n",
      "Epoch 20: val_loss improved from 7273.92480 to 7271.21533, saving model to TataMotors_Stock_Price_Prediction.hdf5\n",
      "45/45 [==============================] - 2s 48ms/step - loss: 3195.9590 - val_loss: 7271.2153\n",
      "Epoch 21/500\n",
      "45/45 [==============================] - ETA: 0s - loss: 3112.1199\n",
      "Epoch 21: val_loss improved from 7271.21533 to 7222.60889, saving model to TataMotors_Stock_Price_Prediction.hdf5\n",
      "45/45 [==============================] - 2s 49ms/step - loss: 3112.1199 - val_loss: 7222.6089\n",
      "Epoch 22/500\n",
      "44/45 [============================>.] - ETA: 0s - loss: 3035.5955\n",
      "Epoch 22: val_loss improved from 7222.60889 to 7171.36182, saving model to TataMotors_Stock_Price_Prediction.hdf5\n",
      "45/45 [==============================] - 2s 47ms/step - loss: 3047.7891 - val_loss: 7171.3618\n",
      "Epoch 23/500\n",
      "45/45 [==============================] - ETA: 0s - loss: 2999.8196\n",
      "Epoch 23: val_loss did not improve from 7171.36182\n",
      "45/45 [==============================] - 2s 52ms/step - loss: 2999.8196 - val_loss: 7344.6133\n",
      "Epoch 24/500\n",
      "45/45 [==============================] - ETA: 0s - loss: 2929.7795\n",
      "Epoch 24: val_loss did not improve from 7171.36182\n",
      "45/45 [==============================] - 2s 47ms/step - loss: 2929.7795 - val_loss: 7261.5889\n",
      "Epoch 25/500\n",
      "44/45 [============================>.] - ETA: 0s - loss: 2834.6396\n",
      "Epoch 25: val_loss did not improve from 7171.36182\n",
      "45/45 [==============================] - 2s 48ms/step - loss: 2847.6926 - val_loss: 7251.1172\n",
      "Epoch 26/500\n",
      "45/45 [==============================] - ETA: 0s - loss: 2818.8767\n",
      "Epoch 26: val_loss did not improve from 7171.36182\n",
      "45/45 [==============================] - 2s 49ms/step - loss: 2818.8767 - val_loss: 7288.2690\n",
      "Epoch 27/500\n",
      "45/45 [==============================] - ETA: 0s - loss: 2729.9006\n",
      "Epoch 27: val_loss did not improve from 7171.36182\n",
      "45/45 [==============================] - 2s 51ms/step - loss: 2729.9006 - val_loss: 7237.3232\n",
      "Epoch 28/500\n",
      "45/45 [==============================] - ETA: 0s - loss: 2655.5220\n",
      "Epoch 28: val_loss improved from 7171.36182 to 7092.48682, saving model to TataMotors_Stock_Price_Prediction.hdf5\n",
      "45/45 [==============================] - 2s 48ms/step - loss: 2655.5220 - val_loss: 7092.4868\n",
      "Epoch 29/500\n",
      "45/45 [==============================] - ETA: 0s - loss: 2632.8926\n",
      "Epoch 29: val_loss did not improve from 7092.48682\n",
      "45/45 [==============================] - 2s 47ms/step - loss: 2632.8926 - val_loss: 7263.4434\n",
      "Epoch 30/500\n",
      "45/45 [==============================] - ETA: 0s - loss: 2549.1252\n",
      "Epoch 30: val_loss did not improve from 7092.48682\n",
      "45/45 [==============================] - 2s 45ms/step - loss: 2549.1252 - val_loss: 7202.8403\n",
      "Epoch 31/500\n",
      "45/45 [==============================] - ETA: 0s - loss: 2532.0208\n",
      "Epoch 31: val_loss did not improve from 7092.48682\n",
      "45/45 [==============================] - 2s 46ms/step - loss: 2532.0208 - val_loss: 7190.5674\n",
      "Epoch 32/500\n",
      "45/45 [==============================] - ETA: 0s - loss: 2444.6533\n",
      "Epoch 32: val_loss did not improve from 7092.48682\n",
      "45/45 [==============================] - 2s 44ms/step - loss: 2444.6533 - val_loss: 7164.5913\n",
      "Epoch 33/500\n",
      "45/45 [==============================] - ETA: 0s - loss: 2410.9087\n",
      "Epoch 33: val_loss did not improve from 7092.48682\n",
      "45/45 [==============================] - 2s 46ms/step - loss: 2410.9087 - val_loss: 7111.5571\n",
      "Epoch 34/500\n",
      "45/45 [==============================] - ETA: 0s - loss: 2351.0520\n",
      "Epoch 34: val_loss did not improve from 7092.48682\n",
      "45/45 [==============================] - 2s 46ms/step - loss: 2351.0520 - val_loss: 7126.1943\n",
      "Epoch 35/500\n",
      "44/45 [============================>.] - ETA: 0s - loss: 2296.1453\n",
      "Epoch 35: val_loss improved from 7092.48682 to 7063.72510, saving model to TataMotors_Stock_Price_Prediction.hdf5\n",
      "45/45 [==============================] - 2s 48ms/step - loss: 2310.8584 - val_loss: 7063.7251\n",
      "Epoch 36/500\n",
      "45/45 [==============================] - ETA: 0s - loss: 2266.6702\n",
      "Epoch 36: val_loss did not improve from 7063.72510\n",
      "45/45 [==============================] - 2s 48ms/step - loss: 2266.6702 - val_loss: 7100.8633\n",
      "Epoch 37/500\n",
      "45/45 [==============================] - ETA: 0s - loss: 2225.0544\n",
      "Epoch 37: val_loss improved from 7063.72510 to 7001.62109, saving model to TataMotors_Stock_Price_Prediction.hdf5\n",
      "45/45 [==============================] - 2s 46ms/step - loss: 2225.0544 - val_loss: 7001.6211\n",
      "Epoch 38/500\n",
      "45/45 [==============================] - ETA: 0s - loss: 2198.8970\n",
      "Epoch 38: val_loss did not improve from 7001.62109\n",
      "45/45 [==============================] - 2s 47ms/step - loss: 2198.8970 - val_loss: 7108.0640\n",
      "Epoch 39/500\n",
      "45/45 [==============================] - ETA: 0s - loss: 2146.5874\n",
      "Epoch 39: val_loss did not improve from 7001.62109\n",
      "45/45 [==============================] - 2s 46ms/step - loss: 2146.5874 - val_loss: 7044.6846\n",
      "Epoch 40/500\n",
      "44/45 [============================>.] - ETA: 0s - loss: 2128.7397\n",
      "Epoch 40: val_loss did not improve from 7001.62109\n",
      "45/45 [==============================] - 2s 47ms/step - loss: 2144.7874 - val_loss: 7095.2153\n",
      "Epoch 41/500\n",
      "45/45 [==============================] - ETA: 0s - loss: 2087.3953\n",
      "Epoch 41: val_loss did not improve from 7001.62109\n",
      "45/45 [==============================] - 2s 46ms/step - loss: 2087.3953 - val_loss: 7032.4956\n",
      "Epoch 42/500\n",
      "45/45 [==============================] - ETA: 0s - loss: 2067.4485\n",
      "Epoch 42: val_loss did not improve from 7001.62109\n",
      "45/45 [==============================] - 2s 46ms/step - loss: 2067.4485 - val_loss: 7105.4756\n",
      "Epoch 43/500\n",
      "45/45 [==============================] - ETA: 0s - loss: 2028.7917\n",
      "Epoch 43: val_loss did not improve from 7001.62109\n",
      "45/45 [==============================] - 2s 47ms/step - loss: 2028.7917 - val_loss: 7049.9561\n",
      "Epoch 44/500\n",
      "45/45 [==============================] - ETA: 0s - loss: 2001.9785\n",
      "Epoch 44: val_loss did not improve from 7001.62109\n",
      "45/45 [==============================] - 2s 46ms/step - loss: 2001.9785 - val_loss: 7137.1694\n",
      "Epoch 45/500\n",
      "45/45 [==============================] - ETA: 0s - loss: 1981.4066\n",
      "Epoch 45: val_loss did not improve from 7001.62109\n",
      "45/45 [==============================] - 2s 47ms/step - loss: 1981.4066 - val_loss: 7066.4160\n",
      "Epoch 46/500\n",
      "45/45 [==============================] - ETA: 0s - loss: 1958.0782\n",
      "Epoch 46: val_loss did not improve from 7001.62109\n",
      "45/45 [==============================] - 2s 46ms/step - loss: 1958.0782 - val_loss: 7152.3628\n",
      "Epoch 47/500\n",
      "45/45 [==============================] - ETA: 0s - loss: 1937.4243\n",
      "Epoch 47: val_loss did not improve from 7001.62109\n",
      "45/45 [==============================] - 2s 49ms/step - loss: 1937.4243 - val_loss: 7113.8530\n",
      "Epoch 47: early stopping\n"
     ]
    }
   ],
   "source": [
    "with tf.device('GPU'):\n",
    "    history=lstm.fit(X_train, \n",
    "                     y_train, \n",
    "                     validation_data=(X_test,y_test),\n",
    "                     epochs=500, \n",
    "                     batch_size=128,\n",
    "                     verbose=1, \n",
    "                     shuffle=False, \n",
    "                     callbacks=callback)"
   ]
  },
  {
   "cell_type": "code",
   "execution_count": 44,
   "metadata": {},
   "outputs": [
    {
     "name": "stdout",
     "output_type": "stream",
     "text": [
      "45/45 [==============================] - 1s 16ms/step\n"
     ]
    },
    {
     "data": {
      "text/plain": [
       "(1427, 1, 1)"
      ]
     },
     "execution_count": 44,
     "metadata": {},
     "output_type": "execute_result"
    }
   ],
   "source": [
    "#LSTM Prediction\n",
    "y_pred= lstm.predict(X_test)\n",
    "y_pred.shape"
   ]
  },
  {
   "cell_type": "code",
   "execution_count": 45,
   "metadata": {},
   "outputs": [
    {
     "data": {
      "text/plain": [
       "(1427, 1)"
      ]
     },
     "execution_count": 45,
     "metadata": {},
     "output_type": "execute_result"
    }
   ],
   "source": [
    "\n",
    "y_pred = y_pred.reshape(-1,1)\n",
    "y_pred.shape"
   ]
  },
  {
   "cell_type": "code",
   "execution_count": 46,
   "metadata": {},
   "outputs": [
    {
     "data": {
      "text/plain": [
       "(1427,)"
      ]
     },
     "execution_count": 46,
     "metadata": {},
     "output_type": "execute_result"
    }
   ],
   "source": [
    "y_test.shape"
   ]
  },
  {
   "cell_type": "code",
   "execution_count": 47,
   "metadata": {},
   "outputs": [
    {
     "data": {
      "image/png": "[encoded data removed]",
      "text/plain": [
       "<Figure size 640x480 with 1 Axes>"
      ]
     },
     "metadata": {},
     "output_type": "display_data"
    }
   ],
   "source": [
    "from matplotlib import pyplot as plt\n",
    "\n",
    "#Predicted vs True Adj Close Value – LSTM\n",
    "\n",
    "plt.plot(y_test, label='True Value')\n",
    "plt.plot(y_pred, label='LSTM Value')\n",
    "plt.title('Prediction by LSTM')\n",
    "plt.xlabel('Time Scale')\n",
    "plt.ylabel('Scaled USD')\n",
    "plt.legend()\n",
    "plt.show()"
   ]
  },
  {
   "cell_type": "code",
   "execution_count": 48,
   "metadata": {},
   "outputs": [
    {
     "name": "stdout",
     "output_type": "stream",
     "text": [
      "Mean Squared Error (MSE): 207.71273645687202\n",
      "Mean Absolute Error (MAE): 10.62515989592634\n",
      "       Actual   Predicted  Difference\n",
      "0  985.900024  994.268005   -8.367981\n",
      "1  977.349976  982.604004   -5.254028\n",
      "2  978.250000  976.947205    1.302795\n",
      "3  961.799988  973.190735  -11.390747\n",
      "4  958.049988  951.588196    6.461792\n"
     ]
    }
   ],
   "source": [
    "import numpy as np\n",
    "import pandas as pd\n",
    "from sklearn.metrics import mean_squared_error, mean_absolute_error\n",
    "\n",
    "# Load and prepare the test data\n",
    "df_test = pd.read_csv('DataSets/TATAMOTORS_18_JUN_2024_18_AUG_2024.csv')\n",
    "df_test = df_test.dropna()\n",
    "df_test = df_test[df_test['Volume'] != 0]\n",
    "\n",
    "# Select the features and the target\n",
    "X_test = df_test[['Open', 'Low', 'High', 'Volume']]\n",
    "y_test = df_test['Close']\n",
    "\n",
    "# Scale the test features using the same scaler as the training data\n",
    "X_test_scaled = scaler.transform(X_test)\n",
    "\n",
    "# Reshape the test data to match the input shape expected by the LSTM model\n",
    "X_test_scaled = X_test_scaled.reshape(X_test_scaled.shape[0], 1, X_test_scaled.shape[1])\n",
    "\n",
    "# Predict the close prices using the LSTM model\n",
    "predictions = lstm.predict(X_test_scaled, verbose=0)\n",
    "\n",
    "# Reshape predictions and true values to be 1D arrays\n",
    "predictions = predictions.flatten()\n",
    "y_test = y_test.values\n",
    "\n",
    "# Calculate evaluation metrics\n",
    "mse = mean_squared_error(y_test, predictions)\n",
    "mae = mean_absolute_error(y_test, predictions)\n",
    "\n",
    "print(f\"Mean Squared Error (MSE): {mse}\")\n",
    "print(f\"Mean Absolute Error (MAE): {mae}\")\n",
    "\n",
    "# Optional: Print out the first few predictions alongside the actual values\n",
    "df_results = pd.DataFrame({\n",
    "    'Actual': y_test,\n",
    "    'Predicted': predictions,\n",
    "    'Difference': y_test - predictions\n",
    "})\n",
    "\n",
    "print(df_results.head())\n"
   ]
  },
  {
   "cell_type": "code",
   "execution_count": 49,
   "metadata": {},
   "outputs": [
    {
     "data": {
      "image/png": "[encoded data removed]",
      "text/plain": [
       "<Figure size 1400x700 with 1 Axes>"
      ]
     },
     "metadata": {},
     "output_type": "display_data"
    }
   ],
   "source": [
    "import matplotlib.pyplot as plt\n",
    "\n",
    "# Plotting the actual vs predicted close prices\n",
    "plt.figure(figsize=(14, 7))\n",
    "plt.plot(df_test.index, y_test, color='blue', label='Actual Close Prices')\n",
    "plt.plot(df_test.index, predictions, color='red', linestyle='--', label='Predicted Close Prices')\n",
    "plt.title('Actual vs Predicted Close Prices')\n",
    "plt.xlabel('Time')\n",
    "plt.ylabel('Close Price')\n",
    "plt.legend()\n",
    "plt.show()\n"
   ]
  },
  {
   "cell_type": "code",
   "execution_count": null,
   "metadata": {},
   "outputs": [],
   "source": [
    "lstm.save('TataMotors_Stock_Price_Prediction_Model_LSTM_v1.h5')"
   ]
  },
  {
   "cell_type": "code",
   "execution_count": 16,
   "metadata": {},
   "outputs": [
    {
     "data": {
      "text/plain": [
       "['scaler.save']"
      ]
     },
     "execution_count": 16,
     "metadata": {},
     "output_type": "execute_result"
    }
   ],
   "source": [
    "import joblib\n",
    "\n",
    "# Save the scaler to a file\n",
    "joblib.dump(scaler, 'scaler_v1.save')"
   ]
  },
  {
   "cell_type": "code",
   "execution_count": null,
   "metadata": {},
   "outputs": [],
   "source": []
  }
 ],
 "metadata": {
  "kernelspec": {
   "display_name": "Stock_Price_Prediction_Env",
   "language": "python",
   "name": "python3"
  },
  "language_info": {
   "codemirror_mode": {
    "name": "ipython",
    "version": 3
   },
   "file_extension": ".py",
   "mimetype": "text/x-python",
   "name": "python",
   "nbconvert_exporter": "python",
   "pygments_lexer": "ipython3",
   "version": "3.9.19"
  }
 },
 "nbformat": 4,
 "nbformat_minor": 2
}
